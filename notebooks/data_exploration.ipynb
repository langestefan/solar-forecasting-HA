{
 "cells": [
  {
   "cell_type": "markdown",
   "metadata": {},
   "source": [
    "## Notebook to explore the features of the dataset"
   ]
  },
  {
   "cell_type": "markdown",
   "metadata": {},
   "source": [
    "Imports"
   ]
  },
  {
   "cell_type": "code",
   "execution_count": 1,
   "metadata": {},
   "outputs": [],
   "source": [
    "import numpy as np\n",
    "import pandas as pd\n",
    "import matplotlib.pyplot as plt"
   ]
  },
  {
   "cell_type": "markdown",
   "metadata": {},
   "source": [
    "Data location"
   ]
  },
  {
   "cell_type": "code",
   "execution_count": 2,
   "metadata": {},
   "outputs": [
    {
     "name": "stdout",
     "output_type": "stream",
     "text": [
      "                  time   value\n",
      "0  1614357270880641024  126.94\n",
      "1  1614357300880275968  120.16\n",
      "2  1614357330890898944  115.41\n",
      "3  1614357360889511168  116.68\n",
      "4  1614357390889285120  123.69\n"
     ]
    }
   ],
   "source": [
    "solar_panel_data = '../data/solar_production.csv'\n",
    "\n",
    "# open\n",
    "with open(solar_panel_data) as csv_file:\n",
    "    # open with pandas\n",
    "    fields = ['time', 'value']\n",
    "    solar_panel_df = pd.read_csv(csv_file, sep=',', usecols=fields)\n",
    "    print(solar_panel_df.head())\n",
    "\n",
    "# column names: \n",
    "# name,tags,time,calculation_mode_str,device_class_str,domain,entity_id,friendly_name,friendly_name_str,icon_str,integration_str,source_domain_str,source_entity_str,state_class_str,value\n",
    "# timestamps: \n",
    "#   Friday 26 February 2021 16:34:30.880 - Friday 1 July 2022 18:31:03.327 (GMT)"
   ]
  },
  {
   "cell_type": "markdown",
   "metadata": {},
   "source": [
    "Make test plot of some of the data"
   ]
  },
  {
   "cell_type": "code",
   "execution_count": 6,
   "metadata": {},
   "outputs": [
    {
     "name": "stdout",
     "output_type": "stream",
     "text": [
      "Sampling interval =  30\n"
     ]
    },
    {
     "data": {
      "text/plain": [
       "[<matplotlib.lines.Line2D at 0x23dceef1040>]"
      ]
     },
     "execution_count": 6,
     "metadata": {},
     "output_type": "execute_result"
    },
    {
     "data": {
      "image/png": "[encoded data removed]",
      "text/plain": [
       "<Figure size 720x360 with 1 Axes>"
      ]
     },
     "metadata": {
      "needs_background": "light"
     },
     "output_type": "display_data"
    }
   ],
   "source": [
    "x = solar_panel_df['time']\n",
    "y = solar_panel_df['value']\n",
    "\n",
    "# convert to numpy\n",
    "# convert nanoseconds --> seconds\n",
    "x = np.array(x / 1e9, dtype=np.uint32)\n",
    "y = np.array(y, dtype=np.float32)\n",
    "\n",
    "print(\"Sampling interval = \", x[58] - x[57])\n",
    "\n",
    "# pick samples 0 - 2000\n",
    "x = x[1200:2600]\n",
    "y = y[1200:2600]\n",
    "\n",
    "# plot some range of the data\n",
    "plt.figure(figsize=(10, 5))\n",
    "plt.plot(x, y)\n"
   ]
  }
 ],
 "metadata": {
  "kernelspec": {
   "display_name": "Python 3.9.12 ('deepl')",
   "language": "python",
   "name": "python3"
  },
  "language_info": {
   "codemirror_mode": {
    "name": "ipython",
    "version": 3
   },
   "file_extension": ".py",
   "mimetype": "text/x-python",
   "name": "python",
   "nbconvert_exporter": "python",
   "pygments_lexer": "ipython3",
   "version": "3.9.12"
  },
  "orig_nbformat": 4,
  "vscode": {
   "interpreter": {
    "hash": "369441202de9f090a0e57b38848d3e186c8686d751df00b39c544f960532016f"
   }
  }
 },
 "nbformat": 4,
 "nbformat_minor": 2
}
